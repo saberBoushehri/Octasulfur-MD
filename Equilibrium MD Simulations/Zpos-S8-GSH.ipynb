{
 "cells": [
  {
   "cell_type": "code",
   "execution_count": 3,
   "metadata": {},
   "outputs": [],
   "source": [
    "import os\n",
    "import matplotlib.pyplot as plt\n",
    "import numpy as np\n",
    "import seaborn as sns\n",
    "import MDAnalysis as mda"
   ]
  },
  {
   "cell_type": "code",
   "execution_count": null,
   "metadata": {},
   "outputs": [],
   "source": [
    "savedir = \".../S8+GSH/...\"\n",
    "z_posLIG = []  \n",
    "z_pos_GSH = [] \n",
    "\n",
    "\n",
    "for dir in [\"1\", \"2\", \"3\", \"4\", \"5\"]:\n",
    "    mydir = f'.../6gsh-6s8-molecules/{dir}'\n",
    "    os.chdir(mydir)\n",
    "    u = mda.Universe('md-whole.gro', 'md-whole.xtc')\n",
    "    mol_s8 = u.select_atoms(\"resname LIG\")\n",
    "    mol_gsh = u.select_atoms(\"resname GSH and (name SG or name HG)\")\n",
    "    \n",
    "    for ts in u.trajectory:\n",
    "        lig_z = [atom.position[2] for atom in mol_s8.atoms]\n",
    "        gsh_z = [atom.position[2] for atom in mol_gsh.atoms]\n",
    "        \n",
    "        z_posLIG.extend([z / 10 for z in lig_z])\n",
    "        z_pos_GSH.extend([z / 10 for z in gsh_z])\n",
    "\n",
    "\n",
    "for dir in [\"1\", \"2\", \"3\", \"4\", \"5\"]:\n",
    "    mydir = f'.../10gsh-6s8-molecules/{dir}'\n",
    "    os.chdir(mydir)\n",
    "    u = mda.Universe('md-whole.gro', 'md-whole.xtc')\n",
    "    mol_s8 = u.select_atoms(\"resname LIG\")\n",
    "    mol_gsh = u.select_atoms(\"resname GSH and (name SG or name HG)\")\n",
    "    \n",
    "    for ts in u.trajectory:\n",
    "        lig_z = [atom.position[2] for atom in mol_s8.atoms]\n",
    "        gsh_z = [atom.position[2] for atom in mol_gsh.atoms]\n",
    "        \n",
    "        z_posLIG.extend([z / 10 for z in lig_z])\n",
    "        z_pos_GSH.extend([z / 10 for z in gsh_z])\n",
    "\n",
    "z_posLIG = np.array(z_posLIG)\n",
    "z_pos_GSH = np.array(z_pos_GSH)"
   ]
  },
  {
   "cell_type": "code",
   "execution_count": null,
   "metadata": {},
   "outputs": [],
   "source": []
  }
 ],
 "metadata": {
  "kernelspec": {
   "display_name": "base",
   "language": "python",
   "name": "python3"
  },
  "language_info": {
   "codemirror_mode": {
    "name": "ipython",
    "version": 3
   },
   "file_extension": ".py",
   "mimetype": "text/x-python",
   "name": "python",
   "nbconvert_exporter": "python",
   "pygments_lexer": "ipython3",
   "version": "3.9.19"
  }
 },
 "nbformat": 4,
 "nbformat_minor": 2
}
